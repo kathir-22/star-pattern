{
  "nbformat": 4,
  "nbformat_minor": 0,
  "metadata": {
    "colab": {
      "provenance": []
    },
    "kernelspec": {
      "name": "python3",
      "display_name": "Python 3"
    },
    "language_info": {
      "name": "python"
    }
  },
  "cells": [
    {
      "cell_type": "code",
      "execution_count": 14,
      "metadata": {
        "colab": {
          "base_uri": "https://localhost:8080/"
        },
        "id": "pQIEx2lDJ8sd",
        "outputId": "a9bb2c7d-dfa8-4f44-c087-184f107c61f5"
      },
      "outputs": [
        {
          "output_type": "stream",
          "name": "stdout",
          "text": [
            "enter the number: 5\n",
            "    \n",
            "   * \n",
            "  * * \n",
            " * * * \n",
            "* * * * \n"
          ]
        }
      ],
      "source": [
        "num = int(input('enter the number: '))\n",
        "for i in range (0,num):\n",
        "  for j in range(0,num-i-1):\n",
        "    print(end=\" \")\n",
        "  for j in range(0,i):\n",
        "    print('*',end=\" \")\n",
        "  print()"
      ]
    },
    {
      "cell_type": "code",
      "source": [],
      "metadata": {
        "id": "FqLW9KhkK9MX"
      },
      "execution_count": 3,
      "outputs": []
    }
  ]
}